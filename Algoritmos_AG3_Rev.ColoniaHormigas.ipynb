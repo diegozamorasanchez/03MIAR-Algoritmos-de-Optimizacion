{
  "nbformat": 4,
  "nbformat_minor": 0,
  "metadata": {
    "colab": {
      "provenance": [],
      "authorship_tag": "ABX9TyPTEgFBqFgUvR0+JB+mMrH8",
      "include_colab_link": true
    },
    "kernelspec": {
      "name": "python3",
      "display_name": "Python 3"
    },
    "language_info": {
      "name": "python"
    }
  },
  "cells": [
    {
      "cell_type": "markdown",
      "metadata": {
        "id": "view-in-github",
        "colab_type": "text"
      },
      "source": [
        "<a href=\"https://colab.research.google.com/github/diegozamorasanchez/03MIAR-Algoritmos-de-Optimizacion/blob/main/Algoritmos_AG3_Rev.ColoniaHormigas.ipynb\" target=\"_parent\"><img src=\"https://colab.research.google.com/assets/colab-badge.svg\" alt=\"Open In Colab\"/></a>"
      ]
    },
    {
      "cell_type": "code",
      "execution_count": null,
      "metadata": {
        "id": "1rYYONoQQMys"
      },
      "outputs": [],
      "source": []
    },
    {
      "cell_type": "markdown",
      "source": [
        "Nombre: Diego Zamora Sanchez <br>\n",
        "Link: https://colab.research.google.com/drive/1zL5nXwOblhWQo8xSTQK-lE5VMZ-0yo3K?usp=sharing <br>\n",
        "GitHub: https://github.com/diegozamorasanchez/03MIAR-Algoritmos-de-Optimizacion <br>"
      ],
      "metadata": {
        "id": "OU66Bh12QOK6"
      }
    },
    {
      "cell_type": "markdown",
      "source": [
        "1. EL PROBLEMA DEL AGENTE VIAJERO"
      ],
      "metadata": {
        "id": "9Iw9jd7ERq3E"
      }
    },
    {
      "cell_type": "code",
      "source": [
        "#CARGA DE LIBRERIAS\n",
        "!pip install requests    #Hacer llamadas http a paginas de la red\n",
        "!pip install tsplib95    #Modulo para las instancias del problema del TSP"
      ],
      "metadata": {
        "colab": {
          "base_uri": "https://localhost:8080/"
        },
        "id": "3sFVUqP_Ryc6",
        "outputId": "8a32b7fb-75fd-4822-b98a-3e5b3fc5c91b"
      },
      "execution_count": 89,
      "outputs": [
        {
          "output_type": "stream",
          "name": "stdout",
          "text": [
            "Looking in indexes: https://pypi.org/simple, https://us-python.pkg.dev/colab-wheels/public/simple/\n",
            "Requirement already satisfied: requests in /usr/local/lib/python3.8/dist-packages (2.25.1)\n",
            "Requirement already satisfied: certifi>=2017.4.17 in /usr/local/lib/python3.8/dist-packages (from requests) (2022.12.7)\n",
            "Requirement already satisfied: urllib3<1.27,>=1.21.1 in /usr/local/lib/python3.8/dist-packages (from requests) (1.24.3)\n",
            "Requirement already satisfied: chardet<5,>=3.0.2 in /usr/local/lib/python3.8/dist-packages (from requests) (4.0.0)\n",
            "Requirement already satisfied: idna<3,>=2.5 in /usr/local/lib/python3.8/dist-packages (from requests) (2.10)\n",
            "Looking in indexes: https://pypi.org/simple, https://us-python.pkg.dev/colab-wheels/public/simple/\n",
            "Requirement already satisfied: tsplib95 in /usr/local/lib/python3.8/dist-packages (0.7.1)\n",
            "Requirement already satisfied: Click>=6.0 in /usr/local/lib/python3.8/dist-packages (from tsplib95) (7.1.2)\n",
            "Requirement already satisfied: tabulate~=0.8.7 in /usr/local/lib/python3.8/dist-packages (from tsplib95) (0.8.10)\n",
            "Requirement already satisfied: networkx~=2.1 in /usr/local/lib/python3.8/dist-packages (from tsplib95) (2.8.8)\n",
            "Requirement already satisfied: Deprecated~=1.2.9 in /usr/local/lib/python3.8/dist-packages (from tsplib95) (1.2.13)\n",
            "Requirement already satisfied: wrapt<2,>=1.10 in /usr/local/lib/python3.8/dist-packages (from Deprecated~=1.2.9->tsplib95) (1.14.1)\n"
          ]
        }
      ]
    },
    {
      "cell_type": "code",
      "source": [
        "#CARGAMOS LOS DATOS DEL PROBLEMA\n",
        "import urllib.request #Para llamadas http\n",
        "import tsplib95       #Para instancias del problema del TSP\n",
        "import math           #Funciones matematicas\n",
        "import random         #Generadores de valores aleatorios\n",
        "\n",
        "#Descargamos el fichero con la Matriz de Distancias\n",
        "file = \"swiss42.tsp\" ; \n",
        "urllib.request.urlretrieve(\"http://comopt.ifi.uni-heidelberg.de/software/TSPLIB95/tsp/swiss42.tsp.gz\", file + '.gz')\n",
        "!gzip -d swiss42.tsp.gz     #Descomprime"
      ],
      "metadata": {
        "colab": {
          "base_uri": "https://localhost:8080/"
        },
        "id": "zgUlC99gSDkb",
        "outputId": "c8ab74f5-48d3-40ed-a1bc-e87e0077d9bf"
      },
      "execution_count": 90,
      "outputs": [
        {
          "output_type": "stream",
          "name": "stdout",
          "text": [
            "gzip: swiss42.tsp already exists; do you wish to overwrite (y or n)? y\n"
          ]
        }
      ]
    },
    {
      "cell_type": "code",
      "source": [
        "#Carga de datos descomprimidas y generación del objeto (problema del viajante)\n",
        "problem = tsplib95.load(file)\n",
        "#Nodos\n",
        "Nodos = list(problem.get_nodes())\n",
        "#Aristas\n",
        "Aristas = list(problem.get_edges())"
      ],
      "metadata": {
        "id": "EBoblOiDS4Et"
      },
      "execution_count": 91,
      "outputs": []
    },
    {
      "cell_type": "code",
      "source": [
        "#Probamos algunas funciones del objeto problema\n",
        "\n",
        "#Distancia entre nodos\n",
        "problem.get_weight(0, 1)\n",
        "\n",
        "#Todas las funciones en la documentación: https://tsplib95.readthedocs.io/en/v0.6.1/modules.html               \n",
        "#dir(problem)"
      ],
      "metadata": {
        "colab": {
          "base_uri": "https://localhost:8080/"
        },
        "id": "bSBwmgY8Uifn",
        "outputId": "2102f7f9-ff88-4986-e059-0f59ea2f4a6f"
      },
      "execution_count": 92,
      "outputs": [
        {
          "output_type": "execute_result",
          "data": {
            "text/plain": [
              "15"
            ]
          },
          "metadata": {},
          "execution_count": 92
        }
      ]
    },
    {
      "cell_type": "code",
      "source": [
        "#FUNCION PARA GENERAR SOLUCION ALEATORIA\n",
        "def crear_solucion(Nodos): \n",
        "  solucion = [Nodos[0]]\n",
        "  for n in Nodos[1:]:\n",
        "    solucion = solucion + [random.choice(list(set(Nodos) - set({Nodos[0]}) - set(solucion)))]\n",
        "  return solucion \n",
        "\n",
        "#FUNCION DISTANCIA ENTRE 2 NODOS\n",
        "def distancia(a,b, problem):\n",
        "  return problem.get_weight(a,b)\n",
        "\n",
        "#FUNCION DISTANCIA TOTAL DE UNA SOLUCION O TRAYECTORIA\n",
        "def distancia_total(solucion, problem):\n",
        "  distancia_total = 0\n",
        "  for i in range(len(solucion)-1):\n",
        "    distancia_total += distancia(solucion[i] ,solucion[i+1] ,  problem)\n",
        "  return distancia_total + distancia(solucion[len(solucion)-1] ,solucion[0], problem)"
      ],
      "metadata": {
        "id": "rOR45gJYbxlA"
      },
      "execution_count": 93,
      "outputs": []
    },
    {
      "cell_type": "code",
      "source": [
        "solucion = crear_solucion(Nodos)\n",
        "solucion"
      ],
      "metadata": {
        "colab": {
          "base_uri": "https://localhost:8080/"
        },
        "id": "R7HjWmvKdmfp",
        "outputId": "d79beab0-1f87-458e-d9bd-677936e00ccd"
      },
      "execution_count": 94,
      "outputs": [
        {
          "output_type": "execute_result",
          "data": {
            "text/plain": [
              "[0,\n",
              " 33,\n",
              " 13,\n",
              " 10,\n",
              " 20,\n",
              " 11,\n",
              " 7,\n",
              " 17,\n",
              " 25,\n",
              " 36,\n",
              " 28,\n",
              " 26,\n",
              " 38,\n",
              " 29,\n",
              " 14,\n",
              " 4,\n",
              " 34,\n",
              " 8,\n",
              " 41,\n",
              " 35,\n",
              " 32,\n",
              " 37,\n",
              " 5,\n",
              " 27,\n",
              " 9,\n",
              " 40,\n",
              " 23,\n",
              " 39,\n",
              " 2,\n",
              " 21,\n",
              " 16,\n",
              " 18,\n",
              " 24,\n",
              " 22,\n",
              " 12,\n",
              " 6,\n",
              " 19,\n",
              " 3,\n",
              " 1,\n",
              " 30,\n",
              " 31,\n",
              " 15]"
            ]
          },
          "metadata": {},
          "execution_count": 94
        }
      ]
    },
    {
      "cell_type": "code",
      "source": [
        "distancia_total(solucion, problem)"
      ],
      "metadata": {
        "colab": {
          "base_uri": "https://localhost:8080/"
        },
        "id": "iL4nzLMldzbO",
        "outputId": "ba49cca0-3fcc-41e6-a77a-d7c6128185c6"
      },
      "execution_count": 95,
      "outputs": [
        {
          "output_type": "execute_result",
          "data": {
            "text/plain": [
              "4748"
            ]
          },
          "metadata": {},
          "execution_count": 95
        }
      ]
    },
    {
      "cell_type": "markdown",
      "source": [
        "2. BÚSQUEDA ALEATORIA"
      ],
      "metadata": {
        "id": "bomWDEaTeLF1"
      }
    },
    {
      "cell_type": "code",
      "source": [
        "#FUNCION PRINCIPAL DE BUSQUEDA ALEATORIA\n",
        "def busqueda_aleatoria(problem, N):\n",
        "  Nodos = list(problem.get_nodes())\n",
        "\n",
        "  mejor_solucion=[]\n",
        "  mejor_distancia=float('inf')\n",
        "\n",
        "  for i in range(N):\n",
        "    solucion=crear_solucion(Nodos)\n",
        "    distancia=distancia_total(solucion, problem)\n",
        "\n",
        "    if distancia < mejor_distancia:\n",
        "      mejor_solucion=solucion\n",
        "      mejor_distancia=distancia\n",
        "\n",
        "  print(\"Mejor solución:\" , mejor_solucion)\n",
        "  print(\"Distancia:\" , mejor_distancia)\n",
        "  return mejor_solucion"
      ],
      "metadata": {
        "id": "35YPAtZteUgv"
      },
      "execution_count": 96,
      "outputs": []
    },
    {
      "cell_type": "code",
      "source": [
        "#Busqueda aleatoria con N=10000 iteraciones\n",
        "solucion = busqueda_aleatoria(problem,10000)"
      ],
      "metadata": {
        "colab": {
          "base_uri": "https://localhost:8080/"
        },
        "id": "ceQONoZ4fMTg",
        "outputId": "8850f079-a61c-4820-9ccd-3d43f451af95"
      },
      "execution_count": 97,
      "outputs": [
        {
          "output_type": "stream",
          "name": "stdout",
          "text": [
            "Mejor solución: [0, 5, 1, 2, 29, 41, 26, 32, 31, 12, 23, 15, 33, 34, 9, 13, 18, 6, 4, 27, 20, 30, 28, 3, 11, 35, 37, 17, 16, 14, 40, 24, 36, 7, 19, 38, 22, 10, 25, 21, 39, 8]\n",
            "Distancia: 3762\n"
          ]
        }
      ]
    },
    {
      "cell_type": "markdown",
      "source": [
        "3. BÚSQUEDA LOCAL"
      ],
      "metadata": {
        "id": "Xs8b1sjqfoAG"
      }
    },
    {
      "cell_type": "code",
      "source": [
        "#FUNCION DE BUSQUEDA LOCAL CON GENERADOR DE SOLUCIONES VECINAS\n",
        "def genera_vecina(solucion):\n",
        "  mejor_solucion=[]\n",
        "  mejor_distancia=10e100\n",
        "  #Recorremos todos los nodos\n",
        "  for i in range(1,len(solucion)-1):\n",
        "    for j in range(i+1, len(solucion)):\n",
        "      \n",
        "      #a: se genera una nueva solución intercambiando los dos nodos i,j\n",
        "      vecina = solucion[:i] + [solucion[j]] + solucion[i+1:j] + [solucion[i]] + solucion[j+1:]\n",
        "\n",
        "      #b: se evalua la solución\n",
        "      distancia_vecina=distancia_total(vecina, problem)    \n",
        "\n",
        "      #c: Se guarda si es mejor\n",
        "      if distancia_vecina <= mejor_distancia:\n",
        "        mejor_distancia=distancia_vecina\n",
        "        mejor_solucion=vecina\n",
        "\n",
        "  return mejor_solucion"
      ],
      "metadata": {
        "id": "DQp3U4OcfxBx"
      },
      "execution_count": 98,
      "outputs": []
    },
    {
      "cell_type": "code",
      "source": [
        "#solucion=[1,47,13,41,40,19,42,44,37,5,22,28,3,2,29,21,50,34,30,9,16,11,38,49,10,39,33,45,15,24,43,26,31,36,35,20,8,7,23,48,27,12,17,4,18,25,14,6,51,46,32]\n",
        "print(\"Distancia Solucion Incial:\" , distancia_total(solucion, problem))\n",
        "\n",
        "nueva_solucion=genera_vecina(solucion)\n",
        "print(\"Distancia Mejor Solucion Local:\", distancia_total(nueva_solucion, problem))"
      ],
      "metadata": {
        "colab": {
          "base_uri": "https://localhost:8080/"
        },
        "id": "agrmOKGOjA2t",
        "outputId": "d6fd98e2-50af-44b4-c5a3-9f698ecfb2fb"
      },
      "execution_count": 99,
      "outputs": [
        {
          "output_type": "stream",
          "name": "stdout",
          "text": [
            "Distancia Solucion Incial: 3762\n",
            "Distancia Mejor Solucion Local: 3510\n"
          ]
        }
      ]
    },
    {
      "cell_type": "code",
      "source": [
        "#FUNCION DE BUSQUEDA LOCAL SOBRE LA ANTERIOR SIN CRITERIO DE PARADA\n",
        "def busqueda_local(problem):\n",
        "  mejor_solucion=[]\n",
        "\n",
        "  #Solucion inicial aleatoria\n",
        "  solucion_referencia=crear_solucion(Nodos)\n",
        "  mejor_distancia=distancia_total(solucion_referencia, problem)\n",
        "\n",
        "  iteracion=0\n",
        "  while(1):\n",
        "    iteracion +=1\n",
        "\n",
        "    #a: mejor vecina\n",
        "    vecina=genera_vecina(solucion_referencia)\n",
        "\n",
        "    #b:se evalúa\n",
        "    distancia_vecina=distancia_total(vecina, problem)\n",
        "\n",
        "    #c: se para si no mejoramos (mínimo local)\n",
        "    if distancia_vecina < mejor_distancia:\n",
        "      mejor_solucion=vecina\n",
        "      mejor_distancia=distancia_vecina\n",
        "\n",
        "    else:\n",
        "      print(\"En la iteracion \", iteracion, \", la mejor solución encontrada es:\" , mejor_solucion)\n",
        "      print(\"Distancia:\" , mejor_distancia)\n",
        "      return mejor_solucion"
      ],
      "metadata": {
        "id": "OlM5pVM2j__i"
      },
      "execution_count": 100,
      "outputs": []
    },
    {
      "cell_type": "code",
      "source": [
        "#Solución búsqueda local:\n",
        "sol=busqueda_local(problem)"
      ],
      "metadata": {
        "colab": {
          "base_uri": "https://localhost:8080/"
        },
        "id": "QCb-1iIfloFV",
        "outputId": "e29b5fb1-133d-4540-e606-991277c3d81f"
      },
      "execution_count": 101,
      "outputs": [
        {
          "output_type": "stream",
          "name": "stdout",
          "text": [
            "En la iteracion  2 , la mejor solución encontrada es: [0, 3, 33, 24, 5, 11, 4, 7, 21, 26, 20, 15, 37, 13, 28, 40, 10, 18, 27, 34, 25, 29, 31, 38, 23, 36, 14, 16, 35, 30, 41, 32, 9, 22, 39, 2, 1, 8, 6, 17, 19, 12]\n",
            "Distancia: 4564\n"
          ]
        }
      ]
    },
    {
      "cell_type": "markdown",
      "source": [
        "4. SIMULATED ANNEALING"
      ],
      "metadata": {
        "id": "cbmtmH3mm-NK"
      }
    },
    {
      "cell_type": "code",
      "source": [
        "#FUNCION GENERADORA DE SOLUCIONES VECINAS 100% ALEATORIA\n",
        "def genera_vecina_aleatorio(solucion):\n",
        "\n",
        "  #2 nodos aleatorios\n",
        "  i,j = sorted(random.sample( range(1,len(solucion)) , 2))\n",
        "  \n",
        "  #Devuelve una nueva solución intercambiando los 2 nodos al azar\n",
        "  return solucion[:i] + [solucion[j]] + solucion[i+1:j] + [solucion[i]] + solucion[j+1:]\n",
        "\n",
        "#FUNCION PROBABILIDAD ACEPTACION\n",
        "def probabilidad(T,d):\n",
        "  if random.random() <  math.exp( -1*d / T):\n",
        "    return True\n",
        "  else:\n",
        "    return False\n",
        "\n",
        "#FUNCION DESCENSO TEMPERATURA\n",
        "def bajar_temperatura(T):\n",
        "  return T*0.99"
      ],
      "metadata": {
        "id": "82IyQxnmnKk5"
      },
      "execution_count": 102,
      "outputs": []
    },
    {
      "cell_type": "code",
      "source": [
        "def recocido_simulado(problem, TEMPERATURA):\n",
        "\n",
        "  solucion_referencia=crear_solucion(Nodos)\n",
        "  distancia_referencia=distancia_total(solucion_referencia, problem)\n",
        "  \n",
        "  mejor_solucion = []             #x* del seudocodigo\n",
        "  mejor_distancia = 10e100        #F* del seudocodigo\n",
        "  \n",
        "  N=0\n",
        "  while TEMPERATURA > .0001:\n",
        "    N+=1\n",
        "    #Genera solución vecina\n",
        "    vecina=genera_vecina_aleatorio(solucion_referencia)\n",
        "    \n",
        "    #Calcula distancia\n",
        "    distancia_vecina=distancia_total(vecina, problem)\n",
        "\n",
        "    #Si es la mejor solución de todas se guarda(siempre)\n",
        "    if distancia_vecina < mejor_distancia:\n",
        "        mejor_solucion=vecina\n",
        "        mejor_distancia=distancia_vecina\n",
        "    \n",
        "    #Si la nueva vecina es mejor se cambia y si es peor se cambia según función de probabilidad\n",
        "    if distancia_vecina < distancia_referencia or probabilidad(TEMPERATURA, abs(distancia_referencia - distancia_vecina)):\n",
        "      solucion_referencia=vecina\n",
        "      distancia_referencia=distancia_vecina\n",
        "\n",
        "    #Baja temperatura\n",
        "    TEMPERATURA=bajar_temperatura(TEMPERATURA)\n",
        "\n",
        "  print(\"La mejor solución encontrada es \" , end=\"\")\n",
        "  print(mejor_solucion)\n",
        "  print(\"con una distancia total de \" , end=\"\")\n",
        "  print(mejor_distancia)\n",
        "  return mejor_solucion"
      ],
      "metadata": {
        "id": "JNpUIa_IBbLe"
      },
      "execution_count": 103,
      "outputs": []
    },
    {
      "cell_type": "code",
      "source": [
        "problem=tsplib95.load(file)\n",
        "sol=recocido_simulado(problem,10000000)"
      ],
      "metadata": {
        "colab": {
          "base_uri": "https://localhost:8080/"
        },
        "id": "myEbNepVBbx8",
        "outputId": "211ea2a9-49e6-4a93-8987-b1ae6d3c0250"
      },
      "execution_count": 104,
      "outputs": [
        {
          "output_type": "stream",
          "name": "stdout",
          "text": [
            "La mejor solución encontrada es [0, 1, 6, 5, 14, 16, 15, 37, 19, 13, 8, 9, 29, 30, 35, 36, 17, 31, 7, 26, 18, 4, 3, 27, 2, 28, 39, 23, 41, 10, 25, 11, 12, 32, 20, 34, 33, 38, 22, 24, 40, 21]\n",
            "con una distancia total de 1949\n"
          ]
        }
      ]
    },
    {
      "cell_type": "markdown",
      "source": [
        "SALEN MAS CORTAS(OPTIMAS) LAS TRAYECTORIAS(SOLUCIONES) DE SIMULATED ANNEALING!"
      ],
      "metadata": {
        "id": "ibdiz58KFGUc"
      }
    },
    {
      "cell_type": "markdown",
      "source": [
        "5. COLONIA DE HORMIGAS"
      ],
      "metadata": {
        "id": "_Wr_NA0yG0Qt"
      }
    },
    {
      "cell_type": "code",
      "source": [
        "#DATOS YA CARGADOS EN LOS ANTERIORES EJERCICIOS\n",
        "#FUNCIONES:\n",
        "def Add_Nodo(problem, H ,T ) :\n",
        "  #Mejora:Establecer una funcion de probabilidad para \n",
        "  # añadir un nuevo nodo dependiendo de los nodos mas cercanos y de las feromonas depositadas\n",
        "  Nodos = list(problem.get_nodes())\n",
        "  return random.choice(   list(set(range(1,len(Nodos))) - set(H) )  )\n",
        "\n",
        "def Incrementa_Feromona(problem, T, H ) :\n",
        "  #Incrementa segun la calidad de la solución. Añadir una cantidad inversamente proporcional a la distancia total \n",
        "  for i in range(len(H)-1):\n",
        "    T[H[i]][H[i+1]] += 1000/distancia_total(H, problem)\n",
        "  return T\n",
        "\n",
        "def Evaporar_Feromonas(T ):\n",
        "  #Evapora 0.3 el valor de la feromona, sin que baje de 1\n",
        "  #Mejora:Podemos elegir diferentes funciones de evaporación dependiendo de la cantidad actual y de la suma total de feromonas depositadas,...\n",
        "  T = [[ max(T[i][j] - 0.3 , 1) for i in range(len(Nodos)) ] for j in range(len(Nodos))]\n",
        "  return T"
      ],
      "metadata": {
        "id": "ldcFVNsiHgql"
      },
      "execution_count": 105,
      "outputs": []
    },
    {
      "cell_type": "code",
      "source": [
        "def hormigas(problem, N) :\n",
        "\n",
        "  #Nodos\n",
        "  Nodos = list(problem.get_nodes())\n",
        "  #Aristas\n",
        "  Aristas = list(problem.get_edges()) \n",
        "  \n",
        "  #Inicializa las aristas con una cantidad inicial de feromonas:1\n",
        "  #Mejora: inicializar con valores diferentes dependiendo diferentes criterios\n",
        "  T = [[ 1 for _ in range(len(Nodos)) ] for _ in range(len(Nodos))]\n",
        "  \n",
        "  #Se generan los agentes(hormigas) que serán estructuras de caminos desde 0\n",
        "  Hormiga = [[0] for _ in range(N)]\n",
        "  \n",
        "  #Recorre cada agente construyendo la solución\n",
        "  for h in range(N) :\n",
        "    #Para cada agente se construye un camino\n",
        "    for i in range(len(Nodos)-1) :\n",
        "      \n",
        "      #Elige el siguiente nodo\n",
        "      Nuevo_Nodo = Add_Nodo(problem, Hormiga[h] ,T )\n",
        "      Hormiga[h].append(Nuevo_Nodo)     \n",
        "    \n",
        "    #Incrementa feromonas en esa arista \n",
        "    T = Incrementa_Feromona(problem, T, Hormiga[h] )\n",
        "    #print(\"Feromonas(1)\", T)\n",
        "      \n",
        "    #Evapora Feromonas  \n",
        "    T = Evaporar_Feromonas(T)\n",
        "    #print(\"Feromonas(2)\", T)\n",
        "\n",
        "    #Seleccionamos el mejor agente\n",
        "  mejor_solucion = []\n",
        "  mejor_distancia = 10e100\n",
        "  for h in range(N) :\n",
        "    distancia_actual = distancia_total(Hormiga[h], problem)\n",
        "    if distancia_actual < mejor_distancia:\n",
        "      mejor_solucion = Hormiga[h]\n",
        "      mejor_distancia =distancia_actual\n",
        "\n",
        "  print(mejor_solucion)\n",
        "  print(mejor_distancia)\n",
        "  \n",
        "hormigas(problem, 1000)"
      ],
      "metadata": {
        "colab": {
          "base_uri": "https://localhost:8080/"
        },
        "id": "iTVjjDzNHlNT",
        "outputId": "597d2795-8cc2-4090-87b3-abca7333e98c"
      },
      "execution_count": 106,
      "outputs": [
        {
          "output_type": "stream",
          "name": "stdout",
          "text": [
            "[0, 28, 17, 27, 31, 20, 7, 6, 37, 26, 16, 23, 8, 39, 9, 18, 19, 32, 24, 38, 30, 36, 33, 35, 34, 41, 29, 21, 22, 2, 3, 12, 11, 13, 25, 5, 10, 15, 14, 40, 4, 1]\n",
            "3842\n"
          ]
        }
      ]
    },
    {
      "cell_type": "code",
      "source": [
        "hormigas(problem, 10000)"
      ],
      "metadata": {
        "colab": {
          "base_uri": "https://localhost:8080/"
        },
        "id": "OaJ0EwEgJaNH",
        "outputId": "379b9f1e-8e6a-4b55-f404-e6b612f9271d"
      },
      "execution_count": 107,
      "outputs": [
        {
          "output_type": "stream",
          "name": "stdout",
          "text": [
            "[0, 17, 30, 33, 20, 34, 38, 16, 15, 3, 5, 41, 10, 11, 1, 31, 35, 26, 4, 6, 36, 24, 40, 25, 23, 21, 27, 28, 29, 9, 12, 2, 18, 7, 19, 39, 32, 14, 37, 13, 22, 8]\n",
            "3681\n"
          ]
        }
      ]
    },
    {
      "cell_type": "markdown",
      "source": [
        "AUMENTANDO EL NÚMERO DE HORMIGAS MEJORA LA SOLUCIÓN, PERO NO SUPERA A SIMULATED ANNEALING. PUEDE QUE CON MÁS HORMIGAS SÍ, PERO EL CÁLCULO ES MUY COSTOSO..."
      ],
      "metadata": {
        "id": "fa6W6KgFK3Jn"
      }
    }
  ]
}