{
  "nbformat": 4,
  "nbformat_minor": 0,
  "metadata": {
    "colab": {
      "provenance": [],
      "authorship_tag": "ABX9TyOQMiROuj9W3VmR/SOlEDe9",
      "include_colab_link": true
    },
    "kernelspec": {
      "name": "python3",
      "display_name": "Python 3"
    },
    "language_info": {
      "name": "python"
    }
  },
  "cells": [
    {
      "cell_type": "markdown",
      "metadata": {
        "id": "view-in-github",
        "colab_type": "text"
      },
      "source": [
        "<a href=\"https://colab.research.google.com/github/diegozamorasanchez/03MIAR-Algoritmos-de-Optimizacion/blob/main/Algoritmos_AG3.ipynb\" target=\"_parent\"><img src=\"https://colab.research.google.com/assets/colab-badge.svg\" alt=\"Open In Colab\"/></a>"
      ]
    },
    {
      "cell_type": "code",
      "execution_count": null,
      "metadata": {
        "id": "1rYYONoQQMys"
      },
      "outputs": [],
      "source": []
    },
    {
      "cell_type": "markdown",
      "source": [
        "Nombre: Diego Zamora Sanchez <br>\n",
        "Link: https://colab.research.google.com/drive/1zL5nXwOblhWQo8xSTQK-lE5VMZ-0yo3K?usp=sharing <br>\n",
        "GitHub: https://github.com/diegozamorasanchez/03MIAR-Algoritmos-de-Optimizacion <br>"
      ],
      "metadata": {
        "id": "OU66Bh12QOK6"
      }
    },
    {
      "cell_type": "markdown",
      "source": [
        "1. EL PROBLEMA DEL AGENTE VIAJERO"
      ],
      "metadata": {
        "id": "9Iw9jd7ERq3E"
      }
    },
    {
      "cell_type": "code",
      "source": [
        "#CARGA DE LIBRERIAS\n",
        "!pip install requests    #Hacer llamadas http a paginas de la red\n",
        "!pip install tsplib95    #Modulo para las instancias del problema del TSP"
      ],
      "metadata": {
        "colab": {
          "base_uri": "https://localhost:8080/"
        },
        "id": "3sFVUqP_Ryc6",
        "outputId": "ce0a3b02-701d-43f0-cd0a-812739d25ff1"
      },
      "execution_count": 66,
      "outputs": [
        {
          "output_type": "stream",
          "name": "stdout",
          "text": [
            "Looking in indexes: https://pypi.org/simple, https://us-python.pkg.dev/colab-wheels/public/simple/\n",
            "Requirement already satisfied: requests in /usr/local/lib/python3.8/dist-packages (2.25.1)\n",
            "Requirement already satisfied: certifi>=2017.4.17 in /usr/local/lib/python3.8/dist-packages (from requests) (2022.12.7)\n",
            "Requirement already satisfied: chardet<5,>=3.0.2 in /usr/local/lib/python3.8/dist-packages (from requests) (4.0.0)\n",
            "Requirement already satisfied: urllib3<1.27,>=1.21.1 in /usr/local/lib/python3.8/dist-packages (from requests) (1.24.3)\n",
            "Requirement already satisfied: idna<3,>=2.5 in /usr/local/lib/python3.8/dist-packages (from requests) (2.10)\n",
            "Looking in indexes: https://pypi.org/simple, https://us-python.pkg.dev/colab-wheels/public/simple/\n",
            "Requirement already satisfied: tsplib95 in /usr/local/lib/python3.8/dist-packages (0.7.1)\n",
            "Requirement already satisfied: networkx~=2.1 in /usr/local/lib/python3.8/dist-packages (from tsplib95) (2.8.8)\n",
            "Requirement already satisfied: Deprecated~=1.2.9 in /usr/local/lib/python3.8/dist-packages (from tsplib95) (1.2.13)\n",
            "Requirement already satisfied: Click>=6.0 in /usr/local/lib/python3.8/dist-packages (from tsplib95) (7.1.2)\n",
            "Requirement already satisfied: tabulate~=0.8.7 in /usr/local/lib/python3.8/dist-packages (from tsplib95) (0.8.10)\n",
            "Requirement already satisfied: wrapt<2,>=1.10 in /usr/local/lib/python3.8/dist-packages (from Deprecated~=1.2.9->tsplib95) (1.14.1)\n"
          ]
        }
      ]
    },
    {
      "cell_type": "code",
      "source": [
        "#CARGAMOS LOS DATOS DEL PROBLEMA\n",
        "import urllib.request #Para llamadas http\n",
        "import tsplib95       #Para instancias del problema del TSP\n",
        "import math           #Funciones matematicas\n",
        "import random         #Generadores de valores aleatorios\n",
        "\n",
        "#Descargamos el fichero con la Matriz de Distancias\n",
        "file = \"swiss42.tsp\" ; \n",
        "urllib.request.urlretrieve(\"http://comopt.ifi.uni-heidelberg.de/software/TSPLIB95/tsp/swiss42.tsp.gz\", file + '.gz')\n",
        "!gzip -d swiss42.tsp.gz     #Descomprime"
      ],
      "metadata": {
        "colab": {
          "base_uri": "https://localhost:8080/"
        },
        "id": "zgUlC99gSDkb",
        "outputId": "7242df16-338e-41c2-a678-eba24d0c0fe5"
      },
      "execution_count": 67,
      "outputs": [
        {
          "output_type": "stream",
          "name": "stdout",
          "text": [
            "gzip: swiss42.tsp already exists; do you wish to overwrite (y or n)? y\n"
          ]
        }
      ]
    },
    {
      "cell_type": "code",
      "source": [
        "#Carga de datos descomprimidas y generación del objeto (problema del viajante)\n",
        "problem = tsplib95.load(file)\n",
        "#Nodos\n",
        "Nodos = list(problem.get_nodes())\n",
        "#Aristas\n",
        "Aristas = list(problem.get_edges())"
      ],
      "metadata": {
        "id": "EBoblOiDS4Et"
      },
      "execution_count": 68,
      "outputs": []
    },
    {
      "cell_type": "code",
      "source": [
        "#Probamos algunas funciones del objeto problema\n",
        "\n",
        "#Distancia entre nodos\n",
        "problem.get_weight(0, 1)\n",
        "\n",
        "#Todas las funciones en la documentación: https://tsplib95.readthedocs.io/en/v0.6.1/modules.html               \n",
        "#dir(problem)"
      ],
      "metadata": {
        "colab": {
          "base_uri": "https://localhost:8080/"
        },
        "id": "bSBwmgY8Uifn",
        "outputId": "7aa9116b-126f-4015-c3d5-aece4e5b91fe"
      },
      "execution_count": 69,
      "outputs": [
        {
          "output_type": "execute_result",
          "data": {
            "text/plain": [
              "15"
            ]
          },
          "metadata": {},
          "execution_count": 69
        }
      ]
    },
    {
      "cell_type": "code",
      "source": [
        "#FUNCION PARA GENERAR SOLUCION ALEATORIA\n",
        "def crear_solucion(Nodos): \n",
        "  solucion = [Nodos[0]]\n",
        "  for n in Nodos[1:]:\n",
        "    solucion = solucion + [random.choice(list(set(Nodos) - set({Nodos[0]}) - set(solucion)))]\n",
        "  return solucion \n",
        "\n",
        "#FUNCION DISTANCIA ENTRE 2 NODOS\n",
        "def distancia(a,b, problem):\n",
        "  return problem.get_weight(a,b)\n",
        "\n",
        "#FUNCION DISTANCIA TOTAL DE UNA SOLUCION O TRAYECTORIA\n",
        "def distancia_total(solucion, problem):\n",
        "  distancia_total = 0\n",
        "  for i in range(len(solucion)-1):\n",
        "    distancia_total += distancia(solucion[i] ,solucion[i+1] ,  problem)\n",
        "  return distancia_total + distancia(solucion[len(solucion)-1] ,solucion[0], problem)"
      ],
      "metadata": {
        "id": "rOR45gJYbxlA"
      },
      "execution_count": 70,
      "outputs": []
    },
    {
      "cell_type": "code",
      "source": [
        "solucion = crear_solucion(Nodos)\n",
        "solucion"
      ],
      "metadata": {
        "colab": {
          "base_uri": "https://localhost:8080/"
        },
        "id": "R7HjWmvKdmfp",
        "outputId": "739d3de2-e8b7-478c-d6e7-e527721c862d"
      },
      "execution_count": 71,
      "outputs": [
        {
          "output_type": "execute_result",
          "data": {
            "text/plain": [
              "[0,\n",
              " 38,\n",
              " 20,\n",
              " 8,\n",
              " 9,\n",
              " 26,\n",
              " 2,\n",
              " 13,\n",
              " 39,\n",
              " 1,\n",
              " 16,\n",
              " 37,\n",
              " 11,\n",
              " 35,\n",
              " 21,\n",
              " 40,\n",
              " 15,\n",
              " 4,\n",
              " 25,\n",
              " 27,\n",
              " 28,\n",
              " 29,\n",
              " 36,\n",
              " 30,\n",
              " 24,\n",
              " 12,\n",
              " 5,\n",
              " 17,\n",
              " 7,\n",
              " 19,\n",
              " 18,\n",
              " 6,\n",
              " 14,\n",
              " 3,\n",
              " 10,\n",
              " 32,\n",
              " 31,\n",
              " 23,\n",
              " 41,\n",
              " 34,\n",
              " 33,\n",
              " 22]"
            ]
          },
          "metadata": {},
          "execution_count": 71
        }
      ]
    },
    {
      "cell_type": "code",
      "source": [
        "distancia_total(solucion, problem)"
      ],
      "metadata": {
        "colab": {
          "base_uri": "https://localhost:8080/"
        },
        "id": "iL4nzLMldzbO",
        "outputId": "dabd1d15-8410-424d-f5e7-baffb7c6c0f4"
      },
      "execution_count": 72,
      "outputs": [
        {
          "output_type": "execute_result",
          "data": {
            "text/plain": [
              "4462"
            ]
          },
          "metadata": {},
          "execution_count": 72
        }
      ]
    },
    {
      "cell_type": "markdown",
      "source": [
        "2. BÚSQUEDA ALEATORIA"
      ],
      "metadata": {
        "id": "bomWDEaTeLF1"
      }
    },
    {
      "cell_type": "code",
      "source": [
        "#FUNCION PRINCIPAL DE BUSQUEDA ALEATORIA\n",
        "def busqueda_aleatoria(problem, N):\n",
        "  Nodos = list(problem.get_nodes())\n",
        "\n",
        "  mejor_solucion=[]\n",
        "  mejor_distancia=float('inf')\n",
        "\n",
        "  for i in range(N):\n",
        "    solucion=crear_solucion(Nodos)\n",
        "    distancia=distancia_total(solucion, problem)\n",
        "\n",
        "    if distancia < mejor_distancia:\n",
        "      mejor_solucion=solucion\n",
        "      mejor_distancia=distancia\n",
        "\n",
        "  print(\"Mejor solución:\" , mejor_solucion)\n",
        "  print(\"Distancia:\" , mejor_distancia)\n",
        "  return mejor_solucion"
      ],
      "metadata": {
        "id": "35YPAtZteUgv"
      },
      "execution_count": 73,
      "outputs": []
    },
    {
      "cell_type": "code",
      "source": [
        "#Busqueda aleatoria con N=10000 iteraciones\n",
        "solucion = busqueda_aleatoria(problem,10000)"
      ],
      "metadata": {
        "colab": {
          "base_uri": "https://localhost:8080/"
        },
        "id": "ceQONoZ4fMTg",
        "outputId": "8b86920c-034f-42f6-de25-a14f6a347b5d"
      },
      "execution_count": 74,
      "outputs": [
        {
          "output_type": "stream",
          "name": "stdout",
          "text": [
            "Mejor solución: [0, 31, 34, 33, 26, 21, 22, 19, 41, 40, 24, 9, 27, 4, 6, 5, 15, 18, 32, 14, 2, 29, 39, 3, 8, 25, 28, 37, 35, 36, 38, 23, 11, 13, 16, 12, 20, 30, 10, 1, 7, 17]\n",
            "Distancia: 3706\n"
          ]
        }
      ]
    },
    {
      "cell_type": "markdown",
      "source": [
        "3. BÚSQUEDA LOCAL"
      ],
      "metadata": {
        "id": "Xs8b1sjqfoAG"
      }
    },
    {
      "cell_type": "code",
      "source": [
        "#FUNCION DE BUSQUEDA LOCAL CON GENERADOR DE SOLUCIONES VECINAS\n",
        "def genera_vecina(solucion):\n",
        "  mejor_solucion=[]\n",
        "  mejor_distancia=10e100\n",
        "  #Recorremos todos los nodos\n",
        "  for i in range(1,len(solucion)-1):\n",
        "    for j in range(i+1, len(solucion)):\n",
        "      \n",
        "      #a: se genera una nueva solución intercambiando los dos nodos i,j\n",
        "      vecina = solucion[:i] + [solucion[j]] + solucion[i+1:j] + [solucion[i]] + solucion[j+1:]\n",
        "\n",
        "      #b: se evalua la solución\n",
        "      distancia_vecina=distancia_total(vecina, problem)    \n",
        "\n",
        "      #c: Se guarda si es mejor\n",
        "      if distancia_vecina <= mejor_distancia:\n",
        "        mejor_distancia=distancia_vecina\n",
        "        mejor_solucion=vecina\n",
        "\n",
        "  return mejor_solucion"
      ],
      "metadata": {
        "id": "DQp3U4OcfxBx"
      },
      "execution_count": 75,
      "outputs": []
    },
    {
      "cell_type": "code",
      "source": [
        "#solucion=[1,47,13,41,40,19,42,44,37,5,22,28,3,2,29,21,50,34,30,9,16,11,38,49,10,39,33,45,15,24,43,26,31,36,35,20,8,7,23,48,27,12,17,4,18,25,14,6,51,46,32]\n",
        "print(\"Distancia Solucion Incial:\" , distancia_total(solucion, problem))\n",
        "\n",
        "nueva_solucion=genera_vecina(solucion)\n",
        "print(\"Distancia Mejor Solucion Local:\", distancia_total(nueva_solucion, problem))"
      ],
      "metadata": {
        "colab": {
          "base_uri": "https://localhost:8080/"
        },
        "id": "agrmOKGOjA2t",
        "outputId": "8743ed97-ef35-4818-c3f5-49d4039695b2"
      },
      "execution_count": 76,
      "outputs": [
        {
          "output_type": "stream",
          "name": "stdout",
          "text": [
            "Distancia Solucion Incial: 3706\n",
            "Distancia Mejor Solucion Local: 3468\n"
          ]
        }
      ]
    },
    {
      "cell_type": "code",
      "source": [
        "#FUNCION DE BUSQUEDA LOCAL SOBRE LA ANTERIOR SIN CRITERIO DE PARADA\n",
        "def busqueda_local(problem):\n",
        "  mejor_solucion=[]\n",
        "\n",
        "  #Solucion inicial aleatoria\n",
        "  solucion_referencia=crear_solucion(Nodos)\n",
        "  mejor_distancia=distancia_total(solucion_referencia, problem)\n",
        "\n",
        "  iteracion=0\n",
        "  while(1):\n",
        "    iteracion +=1\n",
        "\n",
        "    #a: mejor vecina\n",
        "    vecina=genera_vecina(solucion_referencia)\n",
        "\n",
        "    #b:se evalúa\n",
        "    distancia_vecina=distancia_total(vecina, problem)\n",
        "\n",
        "    #c: se para si no mejoramos (mínimo local)\n",
        "    if distancia_vecina < mejor_distancia:\n",
        "      mejor_solucion=vecina\n",
        "      mejor_distancia=distancia_vecina\n",
        "\n",
        "    else:\n",
        "      print(\"En la iteracion \", iteracion, \", la mejor solución encontrada es:\" , mejor_solucion)\n",
        "      print(\"Distancia:\" , mejor_distancia)\n",
        "      return mejor_solucion"
      ],
      "metadata": {
        "id": "OlM5pVM2j__i"
      },
      "execution_count": 77,
      "outputs": []
    },
    {
      "cell_type": "code",
      "source": [
        "#Solución búsqueda local:\n",
        "sol=busqueda_local(problem)"
      ],
      "metadata": {
        "colab": {
          "base_uri": "https://localhost:8080/"
        },
        "id": "QCb-1iIfloFV",
        "outputId": "c62700e5-e2cd-4eff-cfd9-344c811a7171"
      },
      "execution_count": 78,
      "outputs": [
        {
          "output_type": "stream",
          "name": "stdout",
          "text": [
            "En la iteracion  2 , la mejor solución encontrada es: [0, 8, 21, 39, 40, 3, 22, 32, 11, 13, 20, 18, 16, 1, 15, 23, 31, 33, 35, 34, 27, 25, 24, 12, 37, 36, 30, 7, 19, 38, 2, 14, 26, 6, 28, 29, 5, 4, 10, 17, 9, 41]\n",
            "Distancia: 4436\n"
          ]
        }
      ]
    },
    {
      "cell_type": "markdown",
      "source": [
        "4. SIMULATED ANNEALING"
      ],
      "metadata": {
        "id": "cbmtmH3mm-NK"
      }
    },
    {
      "cell_type": "code",
      "source": [
        "#FUNCION GENERADORA DE SOLUCIONES VECINAS 100% ALEATORIA\n",
        "def genera_vecina_aleatorio(solucion):\n",
        "\n",
        "  #2 nodos aleatorios\n",
        "  i,j = sorted(random.sample( range(1,len(solucion)) , 2))\n",
        "  \n",
        "  #Devuelve una nueva solución intercambiando los 2 nodos al azar\n",
        "  return solucion[:i] + [solucion[j]] + solucion[i+1:j] + [solucion[i]] + solucion[j+1:]\n",
        "\n",
        "#FUNCION PROBABILIDAD ACEPTACION\n",
        "def probabilidad(T,d):\n",
        "  if random.random() <  math.exp( -1*d / T):\n",
        "    return True\n",
        "  else:\n",
        "    return False\n",
        "\n",
        "#FUNCION DESCENSO TEMPERATURA\n",
        "def bajar_temperatura(T):\n",
        "  return T*0.99"
      ],
      "metadata": {
        "id": "82IyQxnmnKk5"
      },
      "execution_count": 79,
      "outputs": []
    },
    {
      "cell_type": "code",
      "source": [
        "def recocido_simulado(problem, TEMPERATURA):\n",
        "\n",
        "  solucion_referencia=crear_solucion(Nodos)\n",
        "  distancia_referencia=distancia_total(solucion_referencia, problem)\n",
        "  \n",
        "  mejor_solucion = []             #x* del seudocodigo\n",
        "  mejor_distancia = 10e100        #F* del seudocodigo\n",
        "  \n",
        "  N=0\n",
        "  while TEMPERATURA > .0001:\n",
        "    N+=1\n",
        "    #Genera solución vecina\n",
        "    vecina=genera_vecina_aleatorio(solucion_referencia)\n",
        "    \n",
        "    #Calcula distancia\n",
        "    distancia_vecina=distancia_total(vecina, problem)\n",
        "\n",
        "    #Si es la mejor solución de todas se guarda(siempre)\n",
        "    if distancia_vecina < mejor_distancia:\n",
        "        mejor_solucion=vecina\n",
        "        mejor_distancia=distancia_vecina\n",
        "    \n",
        "    #Si la nueva vecina es mejor se cambia y si es peor se cambia según función de probabilidad\n",
        "    if distancia_vecina < distancia_referencia or probabilidad(TEMPERATURA, abs(distancia_referencia - distancia_vecina)):\n",
        "      solucion_referencia=vecina\n",
        "      distancia_referencia=distancia_vecina\n",
        "\n",
        "    #Baja temperatura\n",
        "    TEMPERATURA=bajar_temperatura(TEMPERATURA)\n",
        "\n",
        "  print(\"La mejor solución encontrada es \" , end=\"\")\n",
        "  print(mejor_solucion)\n",
        "  print(\"con una distancia total de \" , end=\"\")\n",
        "  print(mejor_distancia)\n",
        "  return mejor_solucion"
      ],
      "metadata": {
        "id": "JNpUIa_IBbLe"
      },
      "execution_count": 80,
      "outputs": []
    },
    {
      "cell_type": "code",
      "source": [
        "problem=tsplib95.load(file)\n",
        "sol=recocido_simulado(problem,10000000)"
      ],
      "metadata": {
        "colab": {
          "base_uri": "https://localhost:8080/"
        },
        "id": "myEbNepVBbx8",
        "outputId": "2b22d760-593e-476c-8c7e-16978838ac8c"
      },
      "execution_count": 81,
      "outputs": [
        {
          "output_type": "stream",
          "name": "stdout",
          "text": [
            "La mejor solución encontrada es [0, 7, 31, 17, 37, 15, 14, 19, 5, 32, 34, 33, 30, 2, 8, 29, 9, 23, 12, 11, 25, 10, 41, 21, 39, 22, 28, 27, 6, 1, 4, 3, 18, 26, 13, 16, 36, 35, 20, 38, 24, 40]\n",
            "con una distancia total de 2122\n"
          ]
        }
      ]
    },
    {
      "cell_type": "markdown",
      "source": [
        "SALEN MAS CORTAS(OPTIMAS) LAS TRAYECTORIAS(SOLUCIONES) DE SIMULATED ANNEALING!"
      ],
      "metadata": {
        "id": "ibdiz58KFGUc"
      }
    }
  ]
}